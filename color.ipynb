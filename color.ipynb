{
 "cells": [
  {
   "cell_type": "code",
   "execution_count": 6,
   "id": "aca70fc0",
   "metadata": {},
   "outputs": [],
   "source": [
    "import os\n",
    "from PIL import Image"
   ]
  },
  {
   "cell_type": "code",
   "execution_count": 7,
   "id": "db9d9912",
   "metadata": {},
   "outputs": [],
   "source": [
    "directory = 'images'\n",
    "\n",
    "files = os.listdir(directory)"
   ]
  },
  {
   "cell_type": "code",
   "execution_count": 10,
   "id": "fb480b82",
   "metadata": {},
   "outputs": [],
   "source": [
    "x_train=[]\n",
    "x_test=[]\n",
    "\n",
    "y_train=[]\n",
    "y_test=[]\n",
    "\n",
    "for i in range(0,100):\n",
    "    added=[]\n",
    "    img = Image.open(directory+'\\\\'+files[i])\n",
    "    img=img.resize((28,28))\n",
    "    for i0 in range(28):\n",
    "        for i1 in range(28):\n",
    "            added.append(img.getpixel((i0,i1)))\n",
    "    x_train.append([added])\n",
    "    y_train.append(1)\n",
    "\n",
    "for i in range(101,150):\n",
    "    added=[]\n",
    "    img = Image.open(directory+'\\\\'+files[i])\n",
    "    img=img.resize((28,28))\n",
    "    for i0 in range(28):\n",
    "        for i1 in range(28):\n",
    "            added.append(img.getpixel((i0,i1)))\n",
    "    x_test.append([added])\n",
    "    y_test.append(1)"
   ]
  },
  {
   "cell_type": "code",
   "execution_count": null,
   "id": "8e628367",
   "metadata": {},
   "outputs": [],
   "source": []
  }
 ],
 "metadata": {
  "kernelspec": {
   "display_name": "Anaconda (base)",
   "language": "python",
   "name": "anaconda-base"
  },
  "language_info": {
   "codemirror_mode": {
    "name": "ipython",
    "version": 3
   },
   "file_extension": ".py",
   "mimetype": "text/x-python",
   "name": "python",
   "nbconvert_exporter": "python",
   "pygments_lexer": "ipython3",
   "version": "3.9.7"
  }
 },
 "nbformat": 4,
 "nbformat_minor": 5
}
