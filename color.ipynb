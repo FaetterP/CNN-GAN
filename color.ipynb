{
 "cells": [
  {
   "cell_type": "code",
   "execution_count": 18,
   "id": "aca70fc0",
   "metadata": {},
   "outputs": [],
   "source": [
    "import os\n",
    "from PIL import Image\n",
    "import numpy as np\n",
    "import matplotlib.pyplot as plt"
   ]
  },
  {
   "cell_type": "code",
   "execution_count": 19,
   "id": "c6e67d59",
   "metadata": {},
   "outputs": [],
   "source": [
    "directory = 'images'\n",
    "\n",
    "files = os.listdir(directory)"
   ]
  },
  {
   "cell_type": "code",
   "execution_count": 25,
   "id": "8d2b42a0",
   "metadata": {},
   "outputs": [],
   "source": [
    "x_train=[]\n",
    "x_test=[]\n",
    "\n",
    "y_train=[]\n",
    "y_test=[]\n",
    "\n",
    "for i in range(0,100):\n",
    "    added=[]\n",
    "    img = Image.open(directory+'\\\\'+files[i])\n",
    "    img=img.resize((28,28))\n",
    "    for i0 in range(28):\n",
    "        for i1 in range(28):\n",
    "            added.append(img.getpixel((i1,i0)))\n",
    "    x_train.append([added])\n",
    "    y_train.append(1)\n",
    "\n",
    "for i in range(101,150):\n",
    "    added=[]\n",
    "    img = Image.open(directory+'\\\\'+files[i])\n",
    "    img=img.resize((28,28))\n",
    "    for i0 in range(28):\n",
    "        for i1 in range(28):\n",
    "            added.append(img.getpixel((i1,i0)))\n",
    "    x_test.append([added])\n",
    "    y_test.append(1)\n",
    "\n",
    "\n",
    "x_train=np.array(x_train)\n",
    "x_test=np.array(x_test)\n",
    "\n",
    "y_train=np.array(y_train)\n",
    "y_test=np.array(y_test)\n",
    "\n",
    "x_train = x_train / 255\n",
    "x_test = x_test / 255\n",
    "\n",
    "x_train = np.reshape(x_train, (len(x_train), 28, 28, 3))\n",
    "x_test = np.reshape(x_test, (len(x_test), 28, 28, 3))"
   ]
  },
  {
   "cell_type": "code",
   "execution_count": 27,
   "id": "877ee174",
   "metadata": {},
   "outputs": [
    {
     "data": {
      "image/png": "[encoded data removed]",
      "text/plain": [
       "<Figure size 72x72 with 1 Axes>"
      ]
     },
     "metadata": {
      "needs_background": "light"
     },
     "output_type": "display_data"
    }
   ],
   "source": [
    "plt.figure(figsize=(1,1))\n",
    "plt.imshow(x_train[0, :, :, :])\n",
    "plt.show()"
   ]
  },
  {
   "cell_type": "code",
   "execution_count": null,
   "id": "a1fbb6fe",
   "metadata": {},
   "outputs": [],
   "source": []
  }
 ],
 "metadata": {
  "kernelspec": {
   "display_name": "Anaconda (base)",
   "language": "python",
   "name": "anaconda-base"
  },
  "language_info": {
   "codemirror_mode": {
    "name": "ipython",
    "version": 3
   },
   "file_extension": ".py",
   "mimetype": "text/x-python",
   "name": "python",
   "nbconvert_exporter": "python",
   "pygments_lexer": "ipython3",
   "version": "3.9.7"
  }
 },
 "nbformat": 4,
 "nbformat_minor": 5
}
